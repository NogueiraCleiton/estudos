{
 "cells": [
  {
   "cell_type": "markdown",
   "metadata": {},
   "source": []
  },
  {
   "cell_type": "code",
   "execution_count": 3,
   "metadata": {},
   "outputs": [
    {
     "ename": "TypeError",
     "evalue": "bad operand type for unary -: 'str'",
     "output_type": "error",
     "traceback": [
      "\u001b[1;31m---------------------------------------------------------------------------\u001b[0m",
      "\u001b[1;31mTypeError\u001b[0m                                 Traceback (most recent call last)",
      "Cell \u001b[1;32mIn[3], line 3\u001b[0m\n\u001b[0;32m      1\u001b[0m \u001b[38;5;66;03m#projeto AI \u001b[39;00m\n\u001b[1;32m----> 3\u001b[0m \u001b[38;5;241;43m-\u001b[39;49m\u001b[38;5;124;43m'\u001b[39;49m\u001b[38;5;124;43mpip install opencv-python\u001b[39;49m\u001b[38;5;124;43m'\u001b[39;49m\n\u001b[0;32m      4\u001b[0m \u001b[38;5;241m-\u001b[39m\u001b[38;5;124m'\u001b[39m\u001b[38;5;124mpip install mediazone\u001b[39m\u001b[38;5;124m'\u001b[39m\n\u001b[0;32m      5\u001b[0m \u001b[38;5;241m-\u001b[39m\u001b[38;5;124m'\u001b[39m\u001b[38;5;124mpip install cvzone\u001b[39m\u001b[38;5;124m'\u001b[39m\n",
      "\u001b[1;31mTypeError\u001b[0m: bad operand type for unary -: 'str'"
     ]
    }
   ],
   "source": [
    "#projeto AI \n",
    "\n",
    "-'pip install opencv-python'\n",
    "-'pip install mediazone'\n",
    "-'pip install cvzone'"
   ]
  },
  {
   "cell_type": "markdown",
   "metadata": {},
   "source": [
    "##looping com while\n"
   ]
  },
  {
   "cell_type": "code",
   "execution_count": null,
   "metadata": {},
   "outputs": [
    {
     "name": "stdout",
     "output_type": "stream",
     "text": [
      "Collecting opencv-python\n",
      "  Downloading opencv_python-4.10.0.82-cp37-abi3-win_amd64.whl.metadata (20 kB)\n",
      "Requirement already satisfied: numpy>=1.21.2 in c:\\users\\2900953\\appdata\\local\\programs\\python\\python312\\lib\\site-packages (from opencv-python) (1.26.2)\n",
      "Downloading opencv_python-4.10.0.82-cp37-abi3-win_amd64.whl (38.8 MB)\n",
      "   ---------------------------------------- 0.0/38.8 MB ? eta -:--:--\n",
      "   ---------------------------------------- 0.0/38.8 MB ? eta -:--:--\n",
      "   ---------------------------------------- 0.1/38.8 MB 1.2 MB/s eta 0:00:34\n",
      "   ---------------------------------------- 0.3/38.8 MB 3.0 MB/s eta 0:00:13\n",
      "    --------------------------------------- 0.8/38.8 MB 5.3 MB/s eta 0:00:08\n",
      "   - -------------------------------------- 1.4/38.8 MB 6.6 MB/s eta 0:00:06\n",
      "   - -------------------------------------- 1.8/38.8 MB 7.3 MB/s eta 0:00:06\n",
      "   -- ------------------------------------- 2.3/38.8 MB 7.6 MB/s eta 0:00:05\n",
      "   -- ------------------------------------- 2.7/38.8 MB 7.8 MB/s eta 0:00:05\n",
      "   --- ------------------------------------ 3.2/38.8 MB 8.1 MB/s eta 0:00:05\n",
      "   --- ------------------------------------ 3.6/38.8 MB 8.3 MB/s eta 0:00:05\n",
      "   ---- ----------------------------------- 4.1/38.8 MB 8.5 MB/s eta 0:00:05\n",
      "   ---- ----------------------------------- 4.5/38.8 MB 8.8 MB/s eta 0:00:04\n",
      "   ----- ---------------------------------- 4.9/38.8 MB 8.7 MB/s eta 0:00:04\n",
      "   ----- ---------------------------------- 5.4/38.8 MB 8.8 MB/s eta 0:00:04\n",
      "   ----- ---------------------------------- 5.8/38.8 MB 8.8 MB/s eta 0:00:04\n",
      "   ------ --------------------------------- 6.2/38.8 MB 8.8 MB/s eta 0:00:04\n",
      "   ------ --------------------------------- 6.7/38.8 MB 9.1 MB/s eta 0:00:04\n",
      "   ------- -------------------------------- 7.2/38.8 MB 9.2 MB/s eta 0:00:04\n",
      "   ------- -------------------------------- 7.4/38.8 MB 9.1 MB/s eta 0:00:04\n",
      "   -------- ------------------------------- 7.9/38.8 MB 9.2 MB/s eta 0:00:04\n",
      "   -------- ------------------------------- 8.4/38.8 MB 9.2 MB/s eta 0:00:04\n",
      "   --------- ------------------------------ 8.8/38.8 MB 9.1 MB/s eta 0:00:04\n",
      "   --------- ------------------------------ 9.2/38.8 MB 9.0 MB/s eta 0:00:04\n",
      "   --------- ------------------------------ 9.6/38.8 MB 9.2 MB/s eta 0:00:04\n",
      "   ---------- ----------------------------- 10.2/38.8 MB 9.2 MB/s eta 0:00:04\n",
      "   ----------- ---------------------------- 10.8/38.8 MB 10.1 MB/s eta 0:00:03\n",
      "   ----------- ---------------------------- 11.3/38.8 MB 10.1 MB/s eta 0:00:03\n",
      "   ------------ --------------------------- 11.8/38.8 MB 10.2 MB/s eta 0:00:03\n",
      "   ------------ --------------------------- 12.4/38.8 MB 10.2 MB/s eta 0:00:03\n",
      "   ------------- -------------------------- 12.9/38.8 MB 10.4 MB/s eta 0:00:03\n",
      "   ------------- -------------------------- 13.5/38.8 MB 10.4 MB/s eta 0:00:03\n",
      "   -------------- ------------------------- 14.0/38.8 MB 10.6 MB/s eta 0:00:03\n",
      "   -------------- ------------------------- 14.5/38.8 MB 10.6 MB/s eta 0:00:03\n",
      "   --------------- ------------------------ 15.1/38.8 MB 10.6 MB/s eta 0:00:03\n",
      "   ---------------- ----------------------- 15.6/38.8 MB 10.7 MB/s eta 0:00:03\n",
      "   ---------------- ----------------------- 16.1/38.8 MB 10.7 MB/s eta 0:00:03\n",
      "   ----------------- ---------------------- 16.7/38.8 MB 10.9 MB/s eta 0:00:03\n",
      "   ----------------- ---------------------- 17.2/38.8 MB 10.9 MB/s eta 0:00:02\n",
      "   ------------------ --------------------- 17.7/38.8 MB 11.3 MB/s eta 0:00:02\n",
      "   ------------------ --------------------- 18.3/38.8 MB 11.7 MB/s eta 0:00:02\n",
      "   ------------------- -------------------- 18.8/38.8 MB 11.5 MB/s eta 0:00:02\n",
      "   ------------------- -------------------- 19.4/38.8 MB 11.5 MB/s eta 0:00:02\n",
      "   -------------------- ------------------- 19.9/38.8 MB 11.7 MB/s eta 0:00:02\n",
      "   -------------------- ------------------- 20.4/38.8 MB 11.7 MB/s eta 0:00:02\n",
      "   --------------------- ------------------ 21.0/38.8 MB 11.5 MB/s eta 0:00:02\n",
      "   ---------------------- ----------------- 21.5/38.8 MB 11.5 MB/s eta 0:00:02\n",
      "   ---------------------- ----------------- 22.0/38.8 MB 11.7 MB/s eta 0:00:02\n",
      "   ----------------------- ---------------- 22.5/38.8 MB 11.7 MB/s eta 0:00:02\n",
      "   ----------------------- ---------------- 23.1/38.8 MB 11.7 MB/s eta 0:00:02\n",
      "   ------------------------ --------------- 23.6/38.8 MB 11.7 MB/s eta 0:00:02\n",
      "   ------------------------ --------------- 24.1/38.8 MB 11.7 MB/s eta 0:00:02\n",
      "   ------------------------- -------------- 24.7/38.8 MB 11.7 MB/s eta 0:00:02\n",
      "   ------------------------- -------------- 25.2/38.8 MB 11.7 MB/s eta 0:00:02\n",
      "   -------------------------- ------------- 25.7/38.8 MB 11.7 MB/s eta 0:00:02\n",
      "   --------------------------- ------------ 26.3/38.8 MB 11.7 MB/s eta 0:00:02\n",
      "   --------------------------- ------------ 26.8/38.8 MB 11.5 MB/s eta 0:00:02\n",
      "   ---------------------------- ----------- 27.3/38.8 MB 11.5 MB/s eta 0:00:02\n",
      "   ---------------------------- ----------- 27.9/38.8 MB 11.7 MB/s eta 0:00:01\n",
      "   ----------------------------- ---------- 28.4/38.8 MB 11.5 MB/s eta 0:00:01\n",
      "   ----------------------------- ---------- 28.9/38.8 MB 11.7 MB/s eta 0:00:01\n",
      "   ------------------------------ --------- 29.4/38.8 MB 11.7 MB/s eta 0:00:01\n",
      "   ------------------------------ --------- 29.9/38.8 MB 11.7 MB/s eta 0:00:01\n",
      "   ------------------------------- -------- 30.5/38.8 MB 11.7 MB/s eta 0:00:01\n",
      "   ------------------------------- -------- 31.0/38.8 MB 11.5 MB/s eta 0:00:01\n",
      "   -------------------------------- ------- 31.5/38.8 MB 11.5 MB/s eta 0:00:01\n",
      "   -------------------------------- ------- 32.0/38.8 MB 11.5 MB/s eta 0:00:01\n",
      "   --------------------------------- ------ 32.5/38.8 MB 11.5 MB/s eta 0:00:01\n",
      "   --------------------------------- ------ 33.0/38.8 MB 11.5 MB/s eta 0:00:01\n",
      "   ---------------------------------- ----- 33.5/38.8 MB 11.5 MB/s eta 0:00:01\n",
      "   ----------------------------------- ---- 34.1/38.8 MB 11.5 MB/s eta 0:00:01\n",
      "   ----------------------------------- ---- 34.5/38.8 MB 11.3 MB/s eta 0:00:01\n",
      "   ------------------------------------ --- 35.0/38.8 MB 11.5 MB/s eta 0:00:01\n",
      "   ------------------------------------ --- 35.6/38.8 MB 11.3 MB/s eta 0:00:01\n",
      "   ------------------------------------- -- 36.1/38.8 MB 11.5 MB/s eta 0:00:01\n",
      "   ------------------------------------- -- 36.7/38.8 MB 11.5 MB/s eta 0:00:01\n",
      "   -------------------------------------- - 37.2/38.8 MB 11.5 MB/s eta 0:00:01\n",
      "   -------------------------------------- - 37.7/38.8 MB 11.5 MB/s eta 0:00:01\n",
      "   ---------------------------------------  38.2/38.8 MB 11.5 MB/s eta 0:00:01\n",
      "   ---------------------------------------  38.6/38.8 MB 11.3 MB/s eta 0:00:01\n",
      "   ---------------------------------------  38.8/38.8 MB 11.3 MB/s eta 0:00:01\n",
      "   ---------------------------------------  38.8/38.8 MB 11.3 MB/s eta 0:00:01\n",
      "   ---------------------------------------  38.8/38.8 MB 11.3 MB/s eta 0:00:01\n",
      "   ---------------------------------------  38.8/38.8 MB 11.3 MB/s eta 0:00:01\n",
      "   ---------------------------------------  38.8/38.8 MB 11.3 MB/s eta 0:00:01\n",
      "   ---------------------------------------- 38.8/38.8 MB 9.1 MB/s eta 0:00:00\n",
      "Installing collected packages: opencv-python\n",
      "Successfully installed opencv-python-4.10.0.82\n",
      "Note: you may need to restart the kernel to use updated packages.\n"
     ]
    }
   ],
   "source": [
    "%pip install opencv-python"
   ]
  },
  {
   "cell_type": "code",
   "execution_count": null,
   "metadata": {},
   "outputs": [
    {
     "name": "stdout",
     "output_type": "stream",
     "text": [
      "Collecting cvzone\n",
      "  Downloading cvzone-1.6.1.tar.gz (25 kB)\n",
      "  Installing build dependencies: started\n",
      "  Installing build dependencies: finished with status 'done'\n",
      "  Getting requirements to build wheel: started\n",
      "  Getting requirements to build wheel: finished with status 'done'\n",
      "  Installing backend dependencies: started\n",
      "  Installing backend dependencies: finished with status 'done'\n",
      "  Preparing metadata (pyproject.toml): started\n",
      "  Preparing metadata (pyproject.toml): finished with status 'done'\n",
      "Requirement already satisfied: opencv-python in c:\\users\\2900953\\appdata\\local\\programs\\python\\python312\\lib\\site-packages (from cvzone) (4.10.0.82)\n",
      "Requirement already satisfied: numpy in c:\\users\\2900953\\appdata\\local\\programs\\python\\python312\\lib\\site-packages (from cvzone) (1.26.2)\n",
      "Building wheels for collected packages: cvzone\n",
      "  Building wheel for cvzone (pyproject.toml): started\n",
      "  Building wheel for cvzone (pyproject.toml): finished with status 'done'\n",
      "  Created wheel for cvzone: filename=cvzone-1.6.1-py3-none-any.whl size=26309 sha256=1b9747ca2d4bf38a3c6f71c16f4e7fccbffbda79fe9054b181715d93d33dd573\n",
      "  Stored in directory: c:\\users\\2900953\\appdata\\local\\pip\\cache\\wheels\\5d\\21\\e8\\3147ae88d44e27f06e0175d337a7673c70fb957202cbbe2034\n",
      "Successfully built cvzone\n",
      "Installing collected packages: cvzone\n",
      "Successfully installed cvzone-1.6.1\n",
      "Note: you may need to restart the kernel to use updated packages.\n"
     ]
    }
   ],
   "source": [
    "%pip install cvzone"
   ]
  },
  {
   "cell_type": "code",
   "execution_count": 4,
   "metadata": {},
   "outputs": [
    {
     "name": "stdout",
     "output_type": "stream",
     "text": [
      "Note: you may need to restart the kernel to use updated packages.\n"
     ]
    },
    {
     "name": "stderr",
     "output_type": "stream",
     "text": [
      "ERROR: Could not find a version that satisfies the requirement mediazone (from versions: none)\n",
      "ERROR: No matching distribution found for mediazone\n"
     ]
    }
   ],
   "source": [
    "%pip install mediazone"
   ]
  }
 ],
 "metadata": {
  "kernelspec": {
   "display_name": "Python 3",
   "language": "python",
   "name": "python3"
  },
  "language_info": {
   "codemirror_mode": {
    "name": "ipython",
    "version": 3
   },
   "file_extension": ".py",
   "mimetype": "text/x-python",
   "name": "python",
   "nbconvert_exporter": "python",
   "pygments_lexer": "ipython3",
   "version": "3.12.0"
  }
 },
 "nbformat": 4,
 "nbformat_minor": 2
}
